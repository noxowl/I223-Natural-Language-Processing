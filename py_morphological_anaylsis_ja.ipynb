{
 "cells": [
  {
   "cell_type": "code",
   "execution_count": 1,
   "metadata": {},
   "outputs": [
    {
     "name": "stdout",
     "output_type": "stream",
     "text": [
      "Defaulting to user installation because normal site-packages is not writeable\n",
      "Collecting graphviz\n",
      "  Downloading graphviz-0.20.1-py3-none-any.whl (47 kB)\n",
      "\u001b[2K     \u001b[90m━━━━━━━━━━━━━━━━━━━━━━━━━━━━━━━━━━━━━━━━\u001b[0m \u001b[32m47.0/47.0 KB\u001b[0m \u001b[31m2.1 MB/s\u001b[0m eta \u001b[36m0:00:00\u001b[0m\n",
      "\u001b[?25hInstalling collected packages: graphviz\n",
      "Successfully installed graphviz-0.20.1\n",
      "Note: you may need to restart the kernel to use updated packages.\n"
     ]
    }
   ],
   "source": [
    "%pip install graphviz"
   ]
  },
  {
   "cell_type": "code",
   "execution_count": 37,
   "metadata": {},
   "outputs": [],
   "source": [
    "from __future__ import annotations\n",
    "from dataclasses import dataclass\n",
    "from itertools import chain\n",
    "import csv\n",
    "import pprint as pp\n",
    "import graphviz\n",
    "\n",
    "pprt = pp.PrettyPrinter(indent=2)\n",
    "pprint = lambda x: pprt.pprint(x)\n",
    "\n",
    "word_dictionary_csv = \"\"\"word,pronunciation,pos,note\n",
    "い,i,X,\n",
    "お,o,N,tail\n",
    "おと,oto,N,sound\n",
    "おと,oto,V,drop\n",
    "が,ga,P,NOM\n",
    "こ,ko,N,child\n",
    "こがた,kogata,N,miniature\n",
    "し,shi,N,city\n",
    "し,shi,X, \n",
    "た,ta,A,PAST\n",
    "たい,tai,N,sea bream\n",
    "たい,tai,A,WANT\n",
    "とし,toshi,N,year\n",
    "ね,ne,V,sleep\n",
    "ねこ,neko,N,cat\n",
    "を,o,P,ACC\n",
    "会員,kaiin,N,member\n",
    "机,tsukue,N,desk\"\"\"\n",
    "\n",
    "connection_table_csv = \"\"\"\"\"\""
   ]
  },
  {
   "cell_type": "code",
   "execution_count": 3,
   "metadata": {},
   "outputs": [
    {
     "name": "stdout",
     "output_type": "stream",
     "text": [
      "{ 'い': [{'note': '', 'pos': 'X', 'pronunciation': 'i', 'word': 'い'}],\n",
      "  'お': [{'note': 'tail', 'pos': 'N', 'pronunciation': 'o', 'word': 'お'}],\n",
      "  'おと': [ {'note': 'sound', 'pos': 'N', 'pronunciation': 'oto', 'word': 'おと'},\n",
      "          {'note': 'drop', 'pos': 'V', 'pronunciation': 'oto', 'word': 'おと'}],\n",
      "  'が': [{'note': 'NOM', 'pos': 'P', 'pronunciation': 'ga', 'word': 'が'}],\n",
      "  'こ': [{'note': 'child', 'pos': 'N', 'pronunciation': 'ko', 'word': 'こ'}],\n",
      "  'こがた': [ { 'note': 'miniature',\n",
      "             'pos': 'N',\n",
      "             'pronunciation': 'kogata',\n",
      "             'word': 'こがた'}],\n",
      "  'し': [ {'note': 'city', 'pos': 'N', 'pronunciation': 'shi', 'word': 'し'},\n",
      "         {'note': ' ', 'pos': 'X', 'pronunciation': 'shi', 'word': 'し'}],\n",
      "  'た': [{'note': 'PAST', 'pos': 'A', 'pronunciation': 'ta', 'word': 'た'}],\n",
      "  'たい': [ { 'note': 'sea bream',\n",
      "            'pos': 'N',\n",
      "            'pronunciation': 'tai',\n",
      "            'word': 'たい'},\n",
      "          {'note': 'WANT', 'pos': 'A', 'pronunciation': 'tai', 'word': 'たい'}],\n",
      "  'とし': [{'note': 'year', 'pos': 'N', 'pronunciation': 'toshi', 'word': 'とし'}],\n",
      "  'ね': [{'note': 'sleep', 'pos': 'V', 'pronunciation': 'ne', 'word': 'ね'}],\n",
      "  'ねこ': [{'note': 'cat', 'pos': 'N', 'pronunciation': 'neko', 'word': 'ねこ'}],\n",
      "  'を': [{'note': 'ACC', 'pos': 'P', 'pronunciation': 'o', 'word': 'を'}],\n",
      "  '会員': [ { 'note': 'member',\n",
      "            'pos': 'N',\n",
      "            'pronunciation': 'kaiin',\n",
      "            'word': '会員'}],\n",
      "  '机': [{'note': 'desk', 'pos': 'N', 'pronunciation': 'tsukue', 'word': '机'}]}\n"
     ]
    }
   ],
   "source": [
    "WORD_DICT = {}\n",
    "for row in csv.DictReader(word_dictionary_csv.splitlines()):\n",
    "    try:\n",
    "        WORD_DICT[row['word']].append(row)\n",
    "    except KeyError:\n",
    "        WORD_DICT.update({row['word']: [row]})\n",
    "pprint(WORD_DICT)"
   ]
  },
  {
   "cell_type": "code",
   "execution_count": 4,
   "metadata": {},
   "outputs": [
    {
     "name": "stdout",
     "output_type": "stream",
     "text": [
      "[]\n"
     ]
    }
   ],
   "source": [
    "CONN_TABLE = {}\n",
    "pprint([row for row in csv.DictReader(connection_table_csv.splitlines())])"
   ]
  },
  {
   "cell_type": "code",
   "execution_count": 63,
   "metadata": {},
   "outputs": [],
   "source": [
    "class Result:\n",
    "    def __init__(self, result: any, is_ok: bool):\n",
    "        self.result = result\n",
    "        self._is_ok = is_ok\n",
    "\n",
    "    def is_ok(self):\n",
    "        return self._is_ok\n",
    "    \n",
    "    def is_err(self):\n",
    "        return self._is_ok != True\n",
    "    \n",
    "    def unwrap(self) -> any:\n",
    "        if self._is_ok:\n",
    "            return self.result\n",
    "        else:\n",
    "            raise RuntimeError(\"panic while unwrap!\")\n",
    "\n",
    "\n",
    "@dataclass\n",
    "class Morpheme:\n",
    "    word: str\n",
    "    size: int\n",
    "    pos: str\n",
    "    raw: dict[str, str]\n",
    "\n",
    "WORD_TERMINUS = Morpheme('', 1, 'TERMINUS', {})\n",
    "\n",
    "@dataclass\n",
    "class MorphologicalAnalyserJaSolution:\n",
    "    all: dict\n",
    "    with_all_cost: dict\n",
    "    min_cost: dict\n",
    "\n",
    "\n",
    "class MorphologicalAnalyserJa:\n",
    "    def __init__(self, _word_dict: dict, _conn_table: dict) -> None:\n",
    "        self._origin: str = ''\n",
    "        self._dict: dict = _word_dict\n",
    "        self._conn: dict = _conn_table\n",
    "        self._origin_length = 0\n",
    "        self._word_graph: dict[int, list] = {}\n",
    "    \n",
    "    def _init_input(self, _input: str) -> None:\n",
    "        self._origin = _input\n",
    "        self._origin_length = len(_input)\n",
    "        self._init_word_graph()\n",
    "\n",
    "    def _init_word_graph(self) -> None:\n",
    "        self._word_graph = dict((i, []) for i in range(len(self._origin)))\n",
    "    \n",
    "    def _find_word(self, word: str) -> list[dict[str, str]]:\n",
    "        return list(chain(*list(self._dict[k] for k in list(filter(lambda x: x.startswith(word), list(self._dict.keys()))))))\n",
    "    \n",
    "    def _try_add_node(self, cursor: int, data: dict) -> None:\n",
    "        data_length = len(data['word'])\n",
    "        try:\n",
    "            next_cursor = cursor + 1\n",
    "            node = self._word_graph[next_cursor]\n",
    "            if data_length <= self._origin_length - cursor:\n",
    "                self._add_node(cursor, data_length, data)\n",
    "        except KeyError:\n",
    "            if data_length == 1:\n",
    "                self._add_node(cursor, data_length, data)\n",
    "    \n",
    "    def _add_node(self, cursor: int, data_length: int, data: dict) -> None:\n",
    "        self._word_graph[cursor].append(Morpheme(data['word'], data_length, data['pos'], data))\n",
    "    \n",
    "    def _find_all_solution(self) -> None:\n",
    "        for cursor, word in enumerate(self._origin):\n",
    "            list(map(lambda w: self._try_add_node(cursor, w), self._find_word(word)))\n",
    "    \n",
    "    def analyse(self, _input: str) -> Result:\n",
    "        self._init_input(_input)\n",
    "        try:\n",
    "            self._find_all_solution()\n",
    "            return Result(MorphologicalAnalyserJaSolution(\n",
    "                self._word_graph, {}, {}), is_ok=True)\n",
    "        except Exception as e:\n",
    "            pprint(e)\n",
    "            return Result(None, False)"
   ]
  },
  {
   "cell_type": "code",
   "execution_count": 78,
   "metadata": {},
   "outputs": [
    {
     "data": {
      "image/svg+xml": "<?xml version=\"1.0\" encoding=\"UTF-8\" standalone=\"no\"?>\n<!DOCTYPE svg PUBLIC \"-//W3C//DTD SVG 1.1//EN\"\n \"http://www.w3.org/Graphics/SVG/1.1/DTD/svg11.dtd\">\n<!-- Generated by graphviz version 2.43.0 (0)\n -->\n<!-- Title: %3 Pages: 1 -->\n<svg width=\"1168pt\" height=\"190pt\"\n viewBox=\"0.00 0.00 1168.00 190.00\" xmlns=\"http://www.w3.org/2000/svg\" xmlns:xlink=\"http://www.w3.org/1999/xlink\">\n<g id=\"graph0\" class=\"graph\" transform=\"scale(1 1) rotate(0) translate(4 186)\">\n<title>%3</title>\n<polygon fill=\"white\" stroke=\"transparent\" points=\"-4,4 -4,-186 1164,-186 1164,4 -4,4\"/>\n<!-- START -->\n<g id=\"node1\" class=\"node\">\n<title>START</title>\n<polygon fill=\"none\" stroke=\"black\" points=\"64,-101 0,-101 0,-65 64,-65 64,-101\"/>\n<text text-anchor=\"middle\" x=\"32\" y=\"-79.3\" font-family=\"Times,serif\" font-size=\"14.00\">START</text>\n</g>\n<!-- ね_V_0 -->\n<g id=\"node2\" class=\"node\">\n<title>ね_V_0</title>\n<polygon fill=\"none\" stroke=\"black\" points=\"171.5,-74 108.5,-74 108.5,-38 171.5,-38 171.5,-74\"/>\n<text text-anchor=\"middle\" x=\"140\" y=\"-52.3\" font-family=\"Times,serif\" font-size=\"14.00\">ね_V_0</text>\n</g>\n<!-- START&#45;&gt;ね_V_0 -->\n<g id=\"edge1\" class=\"edge\">\n<title>START&#45;&gt;ね_V_0</title>\n<path fill=\"none\" stroke=\"black\" d=\"M64.23,-75.05C75,-72.3 87.22,-69.19 98.61,-66.29\"/>\n<polygon fill=\"black\" stroke=\"black\" points=\"99.53,-69.67 108.36,-63.8 97.8,-62.88 99.53,-69.67\"/>\n</g>\n<!-- ねこ_N_0 -->\n<g id=\"node3\" class=\"node\">\n<title>ねこ_N_0</title>\n<polygon fill=\"none\" stroke=\"black\" points=\"180,-128 100,-128 100,-92 180,-92 180,-128\"/>\n<text text-anchor=\"middle\" x=\"140\" y=\"-106.3\" font-family=\"Times,serif\" font-size=\"14.00\">ねこ_N_0</text>\n</g>\n<!-- START&#45;&gt;ねこ_N_0 -->\n<g id=\"edge2\" class=\"edge\">\n<title>START&#45;&gt;ねこ_N_0</title>\n<path fill=\"none\" stroke=\"black\" d=\"M64.23,-90.95C72.31,-93.01 81.2,-95.28 89.94,-97.5\"/>\n<polygon fill=\"black\" stroke=\"black\" points=\"89.15,-100.92 99.71,-99.99 90.88,-94.13 89.15,-100.92\"/>\n</g>\n<!-- こ_N_1 -->\n<g id=\"node4\" class=\"node\">\n<title>こ_N_1</title>\n<polygon fill=\"none\" stroke=\"black\" points=\"281,-82 216,-82 216,-46 281,-46 281,-82\"/>\n<text text-anchor=\"middle\" x=\"248.5\" y=\"-60.3\" font-family=\"Times,serif\" font-size=\"14.00\">こ_N_1</text>\n</g>\n<!-- ね_V_0&#45;&gt;こ_N_1 -->\n<g id=\"edge3\" class=\"edge\">\n<title>ね_V_0&#45;&gt;こ_N_1</title>\n<path fill=\"none\" stroke=\"black\" d=\"M171.52,-58.29C182.15,-59.09 194.28,-60 205.67,-60.86\"/>\n<polygon fill=\"black\" stroke=\"black\" points=\"205.63,-64.36 215.87,-61.62 206.16,-57.38 205.63,-64.36\"/>\n</g>\n<!-- こがた_N_1 -->\n<g id=\"node5\" class=\"node\">\n<title>こがた_N_1</title>\n<polygon fill=\"none\" stroke=\"black\" points=\"411,-36 317,-36 317,0 411,0 411,-36\"/>\n<text text-anchor=\"middle\" x=\"364\" y=\"-14.3\" font-family=\"Times,serif\" font-size=\"14.00\">こがた_N_1</text>\n</g>\n<!-- ね_V_0&#45;&gt;こがた_N_1 -->\n<g id=\"edge4\" class=\"edge\">\n<title>ね_V_0&#45;&gt;こがた_N_1</title>\n<path fill=\"none\" stroke=\"black\" d=\"M171.83,-47.31C185.31,-43.73 201.35,-39.79 216,-37 245.7,-31.34 279.1,-26.87 306.55,-23.7\"/>\n<polygon fill=\"black\" stroke=\"black\" points=\"307.22,-27.14 316.76,-22.54 306.43,-20.19 307.22,-27.14\"/>\n</g>\n<!-- が_P_2 -->\n<g id=\"node6\" class=\"node\">\n<title>が_P_2</title>\n<polygon fill=\"none\" stroke=\"black\" points=\"395.5,-128 332.5,-128 332.5,-92 395.5,-92 395.5,-128\"/>\n<text text-anchor=\"middle\" x=\"364\" y=\"-106.3\" font-family=\"Times,serif\" font-size=\"14.00\">が_P_2</text>\n</g>\n<!-- ねこ_N_0&#45;&gt;が_P_2 -->\n<g id=\"edge5\" class=\"edge\">\n<title>ねこ_N_0&#45;&gt;が_P_2</title>\n<path fill=\"none\" stroke=\"black\" d=\"M180.18,-110C220.14,-110 281.87,-110 322.36,-110\"/>\n<polygon fill=\"black\" stroke=\"black\" points=\"322.42,-113.5 332.42,-110 322.42,-106.5 322.42,-113.5\"/>\n</g>\n<!-- こ_N_1&#45;&gt;が_P_2 -->\n<g id=\"edge6\" class=\"edge\">\n<title>こ_N_1&#45;&gt;が_P_2</title>\n<path fill=\"none\" stroke=\"black\" d=\"M281.12,-76.81C293.99,-82.03 309.04,-88.13 322.69,-93.66\"/>\n<polygon fill=\"black\" stroke=\"black\" points=\"321.75,-97.06 332.34,-97.57 324.38,-90.57 321.75,-97.06\"/>\n</g>\n<!-- い_X_4 -->\n<g id=\"node10\" class=\"node\">\n<title>い_X_4</title>\n<polygon fill=\"none\" stroke=\"black\" points=\"631.5,-74 568.5,-74 568.5,-38 631.5,-38 631.5,-74\"/>\n<text text-anchor=\"middle\" x=\"600\" y=\"-52.3\" font-family=\"Times,serif\" font-size=\"14.00\">い_X_4</text>\n</g>\n<!-- こがた_N_1&#45;&gt;い_X_4 -->\n<g id=\"edge10\" class=\"edge\">\n<title>こがた_N_1&#45;&gt;い_X_4</title>\n<path fill=\"none\" stroke=\"black\" d=\"M411.16,-21.93C443.02,-25.02 486.28,-30 524,-37 535.22,-39.08 547.26,-41.88 558.33,-44.68\"/>\n<polygon fill=\"black\" stroke=\"black\" points=\"557.62,-48.11 568.18,-47.24 559.38,-41.34 557.62,-48.11\"/>\n</g>\n<!-- た_A_3 -->\n<g id=\"node7\" class=\"node\">\n<title>た_A_3</title>\n<polygon fill=\"none\" stroke=\"black\" points=\"517,-82 454,-82 454,-46 517,-46 517,-82\"/>\n<text text-anchor=\"middle\" x=\"485.5\" y=\"-60.3\" font-family=\"Times,serif\" font-size=\"14.00\">た_A_3</text>\n</g>\n<!-- が_P_2&#45;&gt;た_A_3 -->\n<g id=\"edge7\" class=\"edge\">\n<title>が_P_2&#45;&gt;た_A_3</title>\n<path fill=\"none\" stroke=\"black\" d=\"M395.77,-98.15C410.55,-92.47 428.44,-85.58 444.28,-79.48\"/>\n<polygon fill=\"black\" stroke=\"black\" points=\"445.75,-82.66 453.83,-75.81 443.24,-76.13 445.75,-82.66\"/>\n</g>\n<!-- たい_N_3 -->\n<g id=\"node8\" class=\"node\">\n<title>たい_N_3</title>\n<polygon fill=\"none\" stroke=\"black\" points=\"640,-128 560,-128 560,-92 640,-92 640,-128\"/>\n<text text-anchor=\"middle\" x=\"600\" y=\"-106.3\" font-family=\"Times,serif\" font-size=\"14.00\">たい_N_3</text>\n</g>\n<!-- が_P_2&#45;&gt;たい_N_3 -->\n<g id=\"edge8\" class=\"edge\">\n<title>が_P_2&#45;&gt;たい_N_3</title>\n<path fill=\"none\" stroke=\"black\" d=\"M395.59,-110C434.75,-110 503.09,-110 549.65,-110\"/>\n<polygon fill=\"black\" stroke=\"black\" points=\"549.82,-113.5 559.82,-110 549.82,-106.5 549.82,-113.5\"/>\n</g>\n<!-- たい_A_3 -->\n<g id=\"node9\" class=\"node\">\n<title>たい_A_3</title>\n<polygon fill=\"none\" stroke=\"black\" points=\"524,-174 447,-174 447,-138 524,-138 524,-174\"/>\n<text text-anchor=\"middle\" x=\"485.5\" y=\"-152.3\" font-family=\"Times,serif\" font-size=\"14.00\">たい_A_3</text>\n</g>\n<!-- が_P_2&#45;&gt;たい_A_3 -->\n<g id=\"edge9\" class=\"edge\">\n<title>が_P_2&#45;&gt;たい_A_3</title>\n<path fill=\"none\" stroke=\"black\" d=\"M395.77,-121.85C408.36,-126.69 423.21,-132.41 437.12,-137.76\"/>\n<polygon fill=\"black\" stroke=\"black\" points=\"435.98,-141.07 446.57,-141.4 438.49,-134.54 435.98,-141.07\"/>\n</g>\n<!-- た_A_3&#45;&gt;い_X_4 -->\n<g id=\"edge11\" class=\"edge\">\n<title>た_A_3&#45;&gt;い_X_4</title>\n<path fill=\"none\" stroke=\"black\" d=\"M517.24,-61.81C529.89,-60.91 544.72,-59.86 558.26,-58.9\"/>\n<polygon fill=\"black\" stroke=\"black\" points=\"558.57,-62.38 568.3,-58.18 558.07,-55.4 558.57,-62.38\"/>\n</g>\n<!-- を_P_5 -->\n<g id=\"node11\" class=\"node\">\n<title>を_P_5</title>\n<polygon fill=\"none\" stroke=\"black\" points=\"739,-128 676,-128 676,-92 739,-92 739,-128\"/>\n<text text-anchor=\"middle\" x=\"707.5\" y=\"-106.3\" font-family=\"Times,serif\" font-size=\"14.00\">を_P_5</text>\n</g>\n<!-- たい_N_3&#45;&gt;を_P_5 -->\n<g id=\"edge12\" class=\"edge\">\n<title>たい_N_3&#45;&gt;を_P_5</title>\n<path fill=\"none\" stroke=\"black\" d=\"M640.28,-110C648.52,-110 657.23,-110 665.53,-110\"/>\n<polygon fill=\"black\" stroke=\"black\" points=\"665.75,-113.5 675.75,-110 665.75,-106.5 665.75,-113.5\"/>\n</g>\n<!-- たい_A_3&#45;&gt;を_P_5 -->\n<g id=\"edge13\" class=\"edge\">\n<title>たい_A_3&#45;&gt;を_P_5</title>\n<path fill=\"none\" stroke=\"black\" d=\"M524.24,-154.09C555.63,-151.85 601.28,-147.07 640,-137 648.76,-134.72 657.91,-131.56 666.51,-128.2\"/>\n<polygon fill=\"black\" stroke=\"black\" points=\"668,-131.38 675.95,-124.37 665.37,-124.89 668,-131.38\"/>\n</g>\n<!-- い_X_4&#45;&gt;を_P_5 -->\n<g id=\"edge14\" class=\"edge\">\n<title>い_X_4&#45;&gt;を_P_5</title>\n<path fill=\"none\" stroke=\"black\" d=\"M631.51,-71.62C642.46,-77.22 654.98,-83.63 666.6,-89.58\"/>\n<polygon fill=\"black\" stroke=\"black\" points=\"665.19,-92.79 675.69,-94.23 668.38,-86.56 665.19,-92.79\"/>\n</g>\n<!-- お_N_6 -->\n<g id=\"node12\" class=\"node\">\n<title>お_N_6</title>\n<polygon fill=\"none\" stroke=\"black\" points=\"847.5,-182 782.5,-182 782.5,-146 847.5,-146 847.5,-182\"/>\n<text text-anchor=\"middle\" x=\"815\" y=\"-160.3\" font-family=\"Times,serif\" font-size=\"14.00\">お_N_6</text>\n</g>\n<!-- を_P_5&#45;&gt;お_N_6 -->\n<g id=\"edge15\" class=\"edge\">\n<title>を_P_5&#45;&gt;お_N_6</title>\n<path fill=\"none\" stroke=\"black\" d=\"M739.01,-125.62C749.77,-131.12 762.04,-137.4 773.49,-143.26\"/>\n<polygon fill=\"black\" stroke=\"black\" points=\"771.96,-146.41 782.45,-147.85 775.15,-140.18 771.96,-146.41\"/>\n</g>\n<!-- おと_N_6 -->\n<g id=\"node13\" class=\"node\">\n<title>おと_N_6</title>\n<polygon fill=\"none\" stroke=\"black\" points=\"855,-128 775,-128 775,-92 855,-92 855,-128\"/>\n<text text-anchor=\"middle\" x=\"815\" y=\"-106.3\" font-family=\"Times,serif\" font-size=\"14.00\">おと_N_6</text>\n</g>\n<!-- を_P_5&#45;&gt;おと_N_6 -->\n<g id=\"edge16\" class=\"edge\">\n<title>を_P_5&#45;&gt;おと_N_6</title>\n<path fill=\"none\" stroke=\"black\" d=\"M739.01,-110C747.06,-110 755.96,-110 764.72,-110\"/>\n<polygon fill=\"black\" stroke=\"black\" points=\"764.89,-113.5 774.89,-110 764.89,-106.5 764.89,-113.5\"/>\n</g>\n<!-- おと_V_6 -->\n<g id=\"node14\" class=\"node\">\n<title>おと_V_6</title>\n<polygon fill=\"none\" stroke=\"black\" points=\"853.5,-74 776.5,-74 776.5,-38 853.5,-38 853.5,-74\"/>\n<text text-anchor=\"middle\" x=\"815\" y=\"-52.3\" font-family=\"Times,serif\" font-size=\"14.00\">おと_V_6</text>\n</g>\n<!-- を_P_5&#45;&gt;おと_V_6 -->\n<g id=\"edge17\" class=\"edge\">\n<title>を_P_5&#45;&gt;おと_V_6</title>\n<path fill=\"none\" stroke=\"black\" d=\"M739.01,-94.38C748.62,-89.47 759.42,-83.94 769.78,-78.64\"/>\n<polygon fill=\"black\" stroke=\"black\" points=\"771.41,-81.73 778.72,-74.06 768.22,-75.5 771.41,-81.73\"/>\n</g>\n<!-- とし_N_7 -->\n<g id=\"node15\" class=\"node\">\n<title>とし_N_7</title>\n<polygon fill=\"none\" stroke=\"black\" points=\"971,-182 891,-182 891,-146 971,-146 971,-182\"/>\n<text text-anchor=\"middle\" x=\"931\" y=\"-160.3\" font-family=\"Times,serif\" font-size=\"14.00\">とし_N_7</text>\n</g>\n<!-- お_N_6&#45;&gt;とし_N_7 -->\n<g id=\"edge18\" class=\"edge\">\n<title>お_N_6&#45;&gt;とし_N_7</title>\n<path fill=\"none\" stroke=\"black\" d=\"M847.76,-164C857.94,-164 869.48,-164 880.62,-164\"/>\n<polygon fill=\"black\" stroke=\"black\" points=\"880.7,-167.5 890.7,-164 880.7,-160.5 880.7,-167.5\"/>\n</g>\n<!-- し_N_8 -->\n<g id=\"node16\" class=\"node\">\n<title>し_N_8</title>\n<polygon fill=\"none\" stroke=\"black\" points=\"963.5,-128 898.5,-128 898.5,-92 963.5,-92 963.5,-128\"/>\n<text text-anchor=\"middle\" x=\"931\" y=\"-106.3\" font-family=\"Times,serif\" font-size=\"14.00\">し_N_8</text>\n</g>\n<!-- おと_N_6&#45;&gt;し_N_8 -->\n<g id=\"edge19\" class=\"edge\">\n<title>おと_N_6&#45;&gt;し_N_8</title>\n<path fill=\"none\" stroke=\"black\" d=\"M855.23,-110C865.87,-110 877.43,-110 888.21,-110\"/>\n<polygon fill=\"black\" stroke=\"black\" points=\"888.24,-113.5 898.24,-110 888.24,-106.5 888.24,-113.5\"/>\n</g>\n<!-- し_X_8 -->\n<g id=\"node17\" class=\"node\">\n<title>し_X_8</title>\n<polygon fill=\"none\" stroke=\"black\" points=\"962.5,-74 899.5,-74 899.5,-38 962.5,-38 962.5,-74\"/>\n<text text-anchor=\"middle\" x=\"931\" y=\"-52.3\" font-family=\"Times,serif\" font-size=\"14.00\">し_X_8</text>\n</g>\n<!-- おと_N_6&#45;&gt;し_X_8 -->\n<g id=\"edge21\" class=\"edge\">\n<title>おと_N_6&#45;&gt;し_X_8</title>\n<path fill=\"none\" stroke=\"black\" d=\"M854.28,-91.87C865.81,-86.4 878.5,-80.4 890.13,-74.88\"/>\n<polygon fill=\"black\" stroke=\"black\" points=\"891.66,-78.03 899.2,-70.59 888.66,-71.71 891.66,-78.03\"/>\n</g>\n<!-- おと_V_6&#45;&gt;し_N_8 -->\n<g id=\"edge20\" class=\"edge\">\n<title>おと_V_6&#45;&gt;し_N_8</title>\n<path fill=\"none\" stroke=\"black\" d=\"M853.64,-73.83C865.11,-79.26 877.76,-85.25 889.4,-90.77\"/>\n<polygon fill=\"black\" stroke=\"black\" points=\"887.95,-93.96 898.49,-95.07 890.95,-87.63 887.95,-93.96\"/>\n</g>\n<!-- おと_V_6&#45;&gt;し_X_8 -->\n<g id=\"edge22\" class=\"edge\">\n<title>おと_V_6&#45;&gt;し_X_8</title>\n<path fill=\"none\" stroke=\"black\" d=\"M853.64,-56C864.97,-56 877.44,-56 888.97,-56\"/>\n<polygon fill=\"black\" stroke=\"black\" points=\"889.23,-59.5 899.23,-56 889.23,-52.5 889.23,-59.5\"/>\n</g>\n<!-- た_A_9 -->\n<g id=\"node18\" class=\"node\">\n<title>た_A_9</title>\n<polygon fill=\"none\" stroke=\"black\" points=\"1070,-128 1007,-128 1007,-92 1070,-92 1070,-128\"/>\n<text text-anchor=\"middle\" x=\"1038.5\" y=\"-106.3\" font-family=\"Times,serif\" font-size=\"14.00\">た_A_9</text>\n</g>\n<!-- とし_N_7&#45;&gt;た_A_9 -->\n<g id=\"edge23\" class=\"edge\">\n<title>とし_N_7&#45;&gt;た_A_9</title>\n<path fill=\"none\" stroke=\"black\" d=\"M967.42,-145.87C977.23,-140.85 987.94,-135.37 997.96,-130.24\"/>\n<polygon fill=\"black\" stroke=\"black\" points=\"999.63,-133.32 1006.94,-125.64 996.44,-127.09 999.63,-133.32\"/>\n</g>\n<!-- し_N_8&#45;&gt;た_A_9 -->\n<g id=\"edge24\" class=\"edge\">\n<title>し_N_8&#45;&gt;た_A_9</title>\n<path fill=\"none\" stroke=\"black\" d=\"M963.65,-110C974.05,-110 985.75,-110 996.73,-110\"/>\n<polygon fill=\"black\" stroke=\"black\" points=\"996.96,-113.5 1006.96,-110 996.96,-106.5 996.96,-113.5\"/>\n</g>\n<!-- し_X_8&#45;&gt;た_A_9 -->\n<g id=\"edge25\" class=\"edge\">\n<title>し_X_8&#45;&gt;た_A_9</title>\n<path fill=\"none\" stroke=\"black\" d=\"M962.51,-71.62C973.46,-77.22 985.98,-83.63 997.6,-89.58\"/>\n<polygon fill=\"black\" stroke=\"black\" points=\"996.19,-92.79 1006.69,-94.23 999.38,-86.56 996.19,-92.79\"/>\n</g>\n<!-- END -->\n<g id=\"node19\" class=\"node\">\n<title>END</title>\n<polygon fill=\"none\" stroke=\"black\" points=\"1160,-128 1106,-128 1106,-92 1160,-92 1160,-128\"/>\n<text text-anchor=\"middle\" x=\"1133\" y=\"-106.3\" font-family=\"Times,serif\" font-size=\"14.00\">END</text>\n</g>\n<!-- た_A_9&#45;&gt;END -->\n<g id=\"edge26\" class=\"edge\">\n<title>た_A_9&#45;&gt;END</title>\n<path fill=\"none\" stroke=\"black\" d=\"M1070.04,-110C1078.27,-110 1087.26,-110 1095.77,-110\"/>\n<polygon fill=\"black\" stroke=\"black\" points=\"1095.83,-113.5 1105.83,-110 1095.83,-106.5 1095.83,-113.5\"/>\n</g>\n</g>\n</svg>\n",
      "text/plain": [
       "<graphviz.graphs.Digraph at 0x7f03d75b5270>"
      ]
     },
     "execution_count": 78,
     "metadata": {},
     "output_type": "execute_result"
    }
   ],
   "source": [
    "analyser_ja: MorphologicalAnalyserJa = MorphologicalAnalyserJa(WORD_DICT, CONN_TABLE)\n",
    "input_string = \"ねこがたいをおとした\"\n",
    "solution_result: Result = analyser_ja.analyse(input_string)\n",
    "if solution_result.is_ok():\n",
    "    solution: MorphologicalAnalyserJaSolution = solution_result.unwrap()\n",
    "else:\n",
    "    print(\"Morphological analysis failed.\")\n",
    "\n",
    "# dirty and fast\n",
    "graph = graphviz.Digraph()\n",
    "graph.attr(rankdir='LR')\n",
    "graph.attr('node', shape='box')\n",
    "graph.node('START')\n",
    "graph_memory = {0: ['START']}\n",
    "for k, v in solution.all.items():\n",
    "    for m in v:\n",
    "        node_name = f'{m.word}_{m.pos}_{k}'\n",
    "        try:\n",
    "            graph_memory[k + m.size].append(node_name)\n",
    "        except KeyError:\n",
    "            graph_memory.update({k + m.size: [node_name]})\n",
    "        graph.node(node_name)\n",
    "        for g in graph_memory[k]:\n",
    "            graph.edge(g, node_name)\n",
    "graph.node('END')\n",
    "for g in graph_memory[max(graph_memory.keys())]:\n",
    "    graph.edge(g, 'END')\n",
    "graph"
   ]
  }
 ],
 "metadata": {
  "kernelspec": {
   "display_name": "Python 3 (ipykernel)",
   "language": "python",
   "name": "python3"
  },
  "language_info": {
   "codemirror_mode": {
    "name": "ipython",
    "version": 3
   },
   "file_extension": ".py",
   "mimetype": "text/x-python",
   "name": "python",
   "nbconvert_exporter": "python",
   "pygments_lexer": "ipython3",
   "version": "3.10.6"
  },
  "orig_nbformat": 4,
  "vscode": {
   "interpreter": {
    "hash": "31f2aee4e71d21fbe5cf8b01ff0e069b9275f58929596ceb00d14d90e3e16cd6"
   }
  }
 },
 "nbformat": 4,
 "nbformat_minor": 2
}
